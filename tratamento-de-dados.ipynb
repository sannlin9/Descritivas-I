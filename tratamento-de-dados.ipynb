{
 "cells": [
  {
   "cell_type": "markdown",
   "id": "11d74614",
   "metadata": {},
   "source": [
    "<a href=\"https://www.kaggle.com/code/sandralincosta09/tratamento-de-dados?scriptVersionId=121618760\" target=\"_blank\"><img align=\"left\" alt=\"Kaggle\" title=\"Open in Kaggle\" src=\"https://kaggle.com/static/images/open-in-kaggle.svg\"></a>"
   ]
  },
  {
   "cell_type": "markdown",
   "id": "fb87bebe",
   "metadata": {
    "papermill": {
     "duration": 0.006504,
     "end_time": "2023-03-10T01:58:41.05468",
     "exception": false,
     "start_time": "2023-03-10T01:58:41.048176",
     "status": "completed"
    },
    "tags": []
   },
   "source": [
    "# Módulo 07, Tarefa 01\n",
    "\n",
    "Vamos começar a mexer na nossa base de projeto? Já fizemos um exercício de montar a variável resposta, já pudemos perceber que essa atividade pode não ser trivial. Vamos agora trabalhar a base para que fique propícia ao *scikitlearn* para trabalharmos.\n",
    "\n",
    "Lembrando, a base se chama demo01.csv, e originalmente está publicada [aqui](https://www.kaggle.com/rikdifos/credit-card-approval-prediction)."
   ]
  },
  {
   "cell_type": "markdown",
   "id": "3a3bdbb1",
   "metadata": {
    "papermill": {
     "duration": 0.004898,
     "end_time": "2023-03-10T01:58:41.064963",
     "exception": false,
     "start_time": "2023-03-10T01:58:41.060065",
     "status": "completed"
    },
    "tags": []
   },
   "source": [
    "#### 1) Carregue a base e avalie:\n",
    "\n",
    "- As variáveis\n",
    "- Tipos de dados de cada variável\n",
    "- Quantidade de missings\n",
    "- Distribuição da variável resposta (mau)"
   ]
  },
  {
   "cell_type": "code",
   "execution_count": 1,
   "id": "6d79b08d",
   "metadata": {
    "execution": {
     "iopub.execute_input": "2023-03-10T01:58:41.078585Z",
     "iopub.status.busy": "2023-03-10T01:58:41.077533Z",
     "iopub.status.idle": "2023-03-10T01:58:41.204343Z",
     "shell.execute_reply": "2023-03-10T01:58:41.203386Z"
    },
    "papermill": {
     "duration": 0.137179,
     "end_time": "2023-03-10T01:58:41.207425",
     "exception": false,
     "start_time": "2023-03-10T01:58:41.070246",
     "status": "completed"
    },
    "tags": []
   },
   "outputs": [
    {
     "data": {
      "text/html": [
       "<div>\n",
       "<style scoped>\n",
       "    .dataframe tbody tr th:only-of-type {\n",
       "        vertical-align: middle;\n",
       "    }\n",
       "\n",
       "    .dataframe tbody tr th {\n",
       "        vertical-align: top;\n",
       "    }\n",
       "\n",
       "    .dataframe thead th {\n",
       "        text-align: right;\n",
       "    }\n",
       "</style>\n",
       "<table border=\"1\" class=\"dataframe\">\n",
       "  <thead>\n",
       "    <tr style=\"text-align: right;\">\n",
       "      <th></th>\n",
       "      <th>sexo</th>\n",
       "      <th>posse_de_veiculo</th>\n",
       "      <th>posse_de_imovel</th>\n",
       "      <th>qtd_filhos</th>\n",
       "      <th>tipo_renda</th>\n",
       "      <th>educacao</th>\n",
       "      <th>estado_civil</th>\n",
       "      <th>tipo_residencia</th>\n",
       "      <th>idade</th>\n",
       "      <th>tempo_emprego</th>\n",
       "      <th>possui_celular</th>\n",
       "      <th>possui_fone_comercial</th>\n",
       "      <th>possui_fone</th>\n",
       "      <th>possui_email</th>\n",
       "      <th>qt_pessoas_residencia</th>\n",
       "      <th>mau</th>\n",
       "    </tr>\n",
       "  </thead>\n",
       "  <tbody>\n",
       "    <tr>\n",
       "      <th>0</th>\n",
       "      <td>M</td>\n",
       "      <td>Y</td>\n",
       "      <td>Y</td>\n",
       "      <td>0</td>\n",
       "      <td>Working</td>\n",
       "      <td>Secondary / secondary special</td>\n",
       "      <td>Married</td>\n",
       "      <td>House / apartment</td>\n",
       "      <td>58.832877</td>\n",
       "      <td>3.106849</td>\n",
       "      <td>1</td>\n",
       "      <td>0</td>\n",
       "      <td>0</td>\n",
       "      <td>0</td>\n",
       "      <td>2.0</td>\n",
       "      <td>False</td>\n",
       "    </tr>\n",
       "    <tr>\n",
       "      <th>1</th>\n",
       "      <td>F</td>\n",
       "      <td>N</td>\n",
       "      <td>Y</td>\n",
       "      <td>0</td>\n",
       "      <td>Commercial associate</td>\n",
       "      <td>Secondary / secondary special</td>\n",
       "      <td>Single / not married</td>\n",
       "      <td>House / apartment</td>\n",
       "      <td>52.356164</td>\n",
       "      <td>8.358904</td>\n",
       "      <td>1</td>\n",
       "      <td>0</td>\n",
       "      <td>1</td>\n",
       "      <td>1</td>\n",
       "      <td>1.0</td>\n",
       "      <td>False</td>\n",
       "    </tr>\n",
       "    <tr>\n",
       "      <th>2</th>\n",
       "      <td>F</td>\n",
       "      <td>N</td>\n",
       "      <td>Y</td>\n",
       "      <td>0</td>\n",
       "      <td>Commercial associate</td>\n",
       "      <td>Secondary / secondary special</td>\n",
       "      <td>Single / not married</td>\n",
       "      <td>House / apartment</td>\n",
       "      <td>52.356164</td>\n",
       "      <td>8.358904</td>\n",
       "      <td>1</td>\n",
       "      <td>0</td>\n",
       "      <td>1</td>\n",
       "      <td>1</td>\n",
       "      <td>1.0</td>\n",
       "      <td>False</td>\n",
       "    </tr>\n",
       "    <tr>\n",
       "      <th>3</th>\n",
       "      <td>M</td>\n",
       "      <td>Y</td>\n",
       "      <td>Y</td>\n",
       "      <td>0</td>\n",
       "      <td>Working</td>\n",
       "      <td>Higher education</td>\n",
       "      <td>Married</td>\n",
       "      <td>House / apartment</td>\n",
       "      <td>46.224658</td>\n",
       "      <td>2.106849</td>\n",
       "      <td>1</td>\n",
       "      <td>1</td>\n",
       "      <td>1</td>\n",
       "      <td>1</td>\n",
       "      <td>2.0</td>\n",
       "      <td>False</td>\n",
       "    </tr>\n",
       "    <tr>\n",
       "      <th>4</th>\n",
       "      <td>F</td>\n",
       "      <td>Y</td>\n",
       "      <td>N</td>\n",
       "      <td>0</td>\n",
       "      <td>Working</td>\n",
       "      <td>Incomplete higher</td>\n",
       "      <td>Married</td>\n",
       "      <td>House / apartment</td>\n",
       "      <td>29.230137</td>\n",
       "      <td>3.021918</td>\n",
       "      <td>1</td>\n",
       "      <td>0</td>\n",
       "      <td>0</td>\n",
       "      <td>0</td>\n",
       "      <td>2.0</td>\n",
       "      <td>False</td>\n",
       "    </tr>\n",
       "  </tbody>\n",
       "</table>\n",
       "</div>"
      ],
      "text/plain": [
       "  sexo posse_de_veiculo posse_de_imovel  qtd_filhos            tipo_renda  \\\n",
       "0    M                Y               Y           0               Working   \n",
       "1    F                N               Y           0  Commercial associate   \n",
       "2    F                N               Y           0  Commercial associate   \n",
       "3    M                Y               Y           0               Working   \n",
       "4    F                Y               N           0               Working   \n",
       "\n",
       "                        educacao          estado_civil    tipo_residencia  \\\n",
       "0  Secondary / secondary special               Married  House / apartment   \n",
       "1  Secondary / secondary special  Single / not married  House / apartment   \n",
       "2  Secondary / secondary special  Single / not married  House / apartment   \n",
       "3               Higher education               Married  House / apartment   \n",
       "4              Incomplete higher               Married  House / apartment   \n",
       "\n",
       "       idade  tempo_emprego  possui_celular  possui_fone_comercial  \\\n",
       "0  58.832877       3.106849               1                      0   \n",
       "1  52.356164       8.358904               1                      0   \n",
       "2  52.356164       8.358904               1                      0   \n",
       "3  46.224658       2.106849               1                      1   \n",
       "4  29.230137       3.021918               1                      0   \n",
       "\n",
       "   possui_fone  possui_email  qt_pessoas_residencia    mau  \n",
       "0            0             0                    2.0  False  \n",
       "1            1             1                    1.0  False  \n",
       "2            1             1                    1.0  False  \n",
       "3            1             1                    2.0  False  \n",
       "4            0             0                    2.0  False  "
      ]
     },
     "execution_count": 1,
     "metadata": {},
     "output_type": "execute_result"
    }
   ],
   "source": [
    "import numpy as np\n",
    "import pandas as pd\n",
    "\n",
    "#dados = pd.read_csv('/kaggle/input/datascredit/demo01.csv')\n",
    "dados = pd.read_csv('demo01.csv')\n",
    "dados.head(5)"
   ]
  },
  {
   "cell_type": "code",
   "execution_count": 2,
   "id": "9f4d9fea",
   "metadata": {
    "execution": {
     "iopub.execute_input": "2023-03-10T01:58:41.221522Z",
     "iopub.status.busy": "2023-03-10T01:58:41.220814Z",
     "iopub.status.idle": "2023-03-10T01:58:41.237114Z",
     "shell.execute_reply": "2023-03-10T01:58:41.235327Z"
    },
    "papermill": {
     "duration": 0.026721,
     "end_time": "2023-03-10T01:58:41.2401",
     "exception": false,
     "start_time": "2023-03-10T01:58:41.213379",
     "status": "completed"
    },
    "tags": []
   },
   "outputs": [
    {
     "data": {
      "text/plain": [
       "sexo                     0\n",
       "posse_de_veiculo         0\n",
       "posse_de_imovel          0\n",
       "qtd_filhos               0\n",
       "tipo_renda               0\n",
       "educacao                 0\n",
       "estado_civil             0\n",
       "tipo_residencia          0\n",
       "idade                    0\n",
       "tempo_emprego            0\n",
       "possui_celular           0\n",
       "possui_fone_comercial    0\n",
       "possui_fone              0\n",
       "possui_email             0\n",
       "qt_pessoas_residencia    0\n",
       "mau                      0\n",
       "dtype: int64"
      ]
     },
     "execution_count": 2,
     "metadata": {},
     "output_type": "execute_result"
    }
   ],
   "source": [
    "dados.isna().sum()"
   ]
  },
  {
   "cell_type": "code",
   "execution_count": 3,
   "id": "1f40ac8a",
   "metadata": {
    "execution": {
     "iopub.execute_input": "2023-03-10T01:58:41.253651Z",
     "iopub.status.busy": "2023-03-10T01:58:41.253127Z",
     "iopub.status.idle": "2023-03-10T01:58:41.271623Z",
     "shell.execute_reply": "2023-03-10T01:58:41.270262Z"
    },
    "papermill": {
     "duration": 0.028347,
     "end_time": "2023-03-10T01:58:41.274139",
     "exception": false,
     "start_time": "2023-03-10T01:58:41.245792",
     "status": "completed"
    },
    "tags": []
   },
   "outputs": [
    {
     "data": {
      "text/plain": [
       "False    16260\n",
       "True       390\n",
       "Name: mau, dtype: int64"
      ]
     },
     "execution_count": 3,
     "metadata": {},
     "output_type": "execute_result"
    }
   ],
   "source": [
    "dados['mau'].value_counts()"
   ]
  },
  {
   "cell_type": "markdown",
   "id": "75189b65",
   "metadata": {
    "papermill": {
     "duration": 0.005395,
     "end_time": "2023-03-10T01:58:41.285411",
     "exception": false,
     "start_time": "2023-03-10T01:58:41.280016",
     "status": "completed"
    },
    "tags": []
   },
   "source": [
    "#### 2) Vamos montar um metadados\n",
    "\n",
    "1. Crie um dataframe com os nomes de cada variável e o tipo de dados de cada variável.\n",
    "2. Adicione uma coluna nesse *dataframe* chamada \"qtd_categorias\" e coloque nela o número de categorias correspondente de cada variável. \n",
    "    Dica: \n",
    "        1. inicie uma lista vazia\n",
    "        2. faça um for ao longo dos nomes das variáveis, \n",
    "        3. conte o número de categorias dessa variável \n",
    "        4. acumule essa informação de 3. na lista que você criou em 1. \n",
    "        5. No final, essa lista pode ser atribuída à nossa variável.\n",
    "3. Crie variáveis dummy para as variáveis necessárias (i.e. aquelas que são qualitativas e não estão armazenadas como {0, 1} ou {True, False}."
   ]
  },
  {
   "cell_type": "markdown",
   "id": "506c4927",
   "metadata": {
    "papermill": {
     "duration": 0.005406,
     "end_time": "2023-03-10T01:58:41.296451",
     "exception": false,
     "start_time": "2023-03-10T01:58:41.291045",
     "status": "completed"
    },
    "tags": []
   },
   "source": [
    "2.1) Crie um dataframe com os nomes de cada variável e o tipo de dados de cada variável."
   ]
  },
  {
   "cell_type": "code",
   "execution_count": 4,
   "id": "61201657",
   "metadata": {
    "execution": {
     "iopub.execute_input": "2023-03-10T01:58:41.309875Z",
     "iopub.status.busy": "2023-03-10T01:58:41.309396Z",
     "iopub.status.idle": "2023-03-10T01:58:41.322549Z",
     "shell.execute_reply": "2023-03-10T01:58:41.321281Z"
    },
    "papermill": {
     "duration": 0.023012,
     "end_time": "2023-03-10T01:58:41.325011",
     "exception": false,
     "start_time": "2023-03-10T01:58:41.301999",
     "status": "completed"
    },
    "tags": []
   },
   "outputs": [
    {
     "data": {
      "text/html": [
       "<div>\n",
       "<style scoped>\n",
       "    .dataframe tbody tr th:only-of-type {\n",
       "        vertical-align: middle;\n",
       "    }\n",
       "\n",
       "    .dataframe tbody tr th {\n",
       "        vertical-align: top;\n",
       "    }\n",
       "\n",
       "    .dataframe thead th {\n",
       "        text-align: right;\n",
       "    }\n",
       "</style>\n",
       "<table border=\"1\" class=\"dataframe\">\n",
       "  <thead>\n",
       "    <tr style=\"text-align: right;\">\n",
       "      <th></th>\n",
       "      <th>0</th>\n",
       "    </tr>\n",
       "  </thead>\n",
       "  <tbody>\n",
       "    <tr>\n",
       "      <th>sexo</th>\n",
       "      <td>object</td>\n",
       "    </tr>\n",
       "    <tr>\n",
       "      <th>posse_de_veiculo</th>\n",
       "      <td>object</td>\n",
       "    </tr>\n",
       "    <tr>\n",
       "      <th>posse_de_imovel</th>\n",
       "      <td>object</td>\n",
       "    </tr>\n",
       "    <tr>\n",
       "      <th>qtd_filhos</th>\n",
       "      <td>int64</td>\n",
       "    </tr>\n",
       "    <tr>\n",
       "      <th>tipo_renda</th>\n",
       "      <td>object</td>\n",
       "    </tr>\n",
       "    <tr>\n",
       "      <th>educacao</th>\n",
       "      <td>object</td>\n",
       "    </tr>\n",
       "    <tr>\n",
       "      <th>estado_civil</th>\n",
       "      <td>object</td>\n",
       "    </tr>\n",
       "    <tr>\n",
       "      <th>tipo_residencia</th>\n",
       "      <td>object</td>\n",
       "    </tr>\n",
       "    <tr>\n",
       "      <th>idade</th>\n",
       "      <td>float64</td>\n",
       "    </tr>\n",
       "    <tr>\n",
       "      <th>tempo_emprego</th>\n",
       "      <td>float64</td>\n",
       "    </tr>\n",
       "    <tr>\n",
       "      <th>possui_celular</th>\n",
       "      <td>int64</td>\n",
       "    </tr>\n",
       "    <tr>\n",
       "      <th>possui_fone_comercial</th>\n",
       "      <td>int64</td>\n",
       "    </tr>\n",
       "    <tr>\n",
       "      <th>possui_fone</th>\n",
       "      <td>int64</td>\n",
       "    </tr>\n",
       "    <tr>\n",
       "      <th>possui_email</th>\n",
       "      <td>int64</td>\n",
       "    </tr>\n",
       "    <tr>\n",
       "      <th>qt_pessoas_residencia</th>\n",
       "      <td>float64</td>\n",
       "    </tr>\n",
       "    <tr>\n",
       "      <th>mau</th>\n",
       "      <td>bool</td>\n",
       "    </tr>\n",
       "  </tbody>\n",
       "</table>\n",
       "</div>"
      ],
      "text/plain": [
       "                             0\n",
       "sexo                    object\n",
       "posse_de_veiculo        object\n",
       "posse_de_imovel         object\n",
       "qtd_filhos               int64\n",
       "tipo_renda              object\n",
       "educacao                object\n",
       "estado_civil            object\n",
       "tipo_residencia         object\n",
       "idade                  float64\n",
       "tempo_emprego          float64\n",
       "possui_celular           int64\n",
       "possui_fone_comercial    int64\n",
       "possui_fone              int64\n",
       "possui_email             int64\n",
       "qt_pessoas_residencia  float64\n",
       "mau                       bool"
      ]
     },
     "execution_count": 4,
     "metadata": {},
     "output_type": "execute_result"
    }
   ],
   "source": [
    "colunas = list(dados.columns)\n",
    "tipos = list(dados.dtypes)\n",
    "tipo_dados = pd.DataFrame(tipos,colunas)\n",
    "tipo_dados"
   ]
  },
  {
   "cell_type": "markdown",
   "id": "72ae02bc",
   "metadata": {
    "papermill": {
     "duration": 0.005673,
     "end_time": "2023-03-10T01:58:41.336718",
     "exception": false,
     "start_time": "2023-03-10T01:58:41.331045",
     "status": "completed"
    },
    "tags": []
   },
   "source": [
    "2.2)Adicione uma coluna nesse dataframe chamada \"qtd_categorias\" e coloque nela o número de categorias correspondente de cada variável.  \n",
    "    Dica: \n",
    "        1. inicie uma lista vazia\n",
    "        2. faça um for ao longo dos nomes das variáveis, \n",
    "        3. conte o número de categorias dessa variável \n",
    "        4. acumule essa informação de 3. na lista que você criou em 1. \n",
    "        5. No final, essa lista pode ser atribuída à nossa variável."
   ]
  },
  {
   "cell_type": "code",
   "execution_count": 5,
   "id": "5351daf0",
   "metadata": {
    "execution": {
     "iopub.execute_input": "2023-03-10T01:58:41.351004Z",
     "iopub.status.busy": "2023-03-10T01:58:41.350452Z",
     "iopub.status.idle": "2023-03-10T01:58:41.375755Z",
     "shell.execute_reply": "2023-03-10T01:58:41.374412Z"
    },
    "papermill": {
     "duration": 0.035812,
     "end_time": "2023-03-10T01:58:41.378441",
     "exception": false,
     "start_time": "2023-03-10T01:58:41.342629",
     "status": "completed"
    },
    "tags": []
   },
   "outputs": [
    {
     "data": {
      "text/plain": [
       "[2, 2, 2, 8, 5, 5, 5, 6, 5298, 3005, 1, 2, 2, 2, 9, 2]"
      ]
     },
     "execution_count": 5,
     "metadata": {},
     "output_type": "execute_result"
    }
   ],
   "source": [
    "qtd_categorias = list(dados.nunique(axis=0))\n",
    "qtd_categorias\n",
    "\n",
    "#A dica complicou mais que ajudou :("
   ]
  },
  {
   "cell_type": "code",
   "execution_count": 6,
   "id": "cbeb2b77",
   "metadata": {
    "execution": {
     "iopub.execute_input": "2023-03-10T01:58:41.392651Z",
     "iopub.status.busy": "2023-03-10T01:58:41.392216Z",
     "iopub.status.idle": "2023-03-10T01:58:41.405982Z",
     "shell.execute_reply": "2023-03-10T01:58:41.404678Z"
    },
    "papermill": {
     "duration": 0.024144,
     "end_time": "2023-03-10T01:58:41.408705",
     "exception": false,
     "start_time": "2023-03-10T01:58:41.384561",
     "status": "completed"
    },
    "tags": []
   },
   "outputs": [
    {
     "data": {
      "text/html": [
       "<div>\n",
       "<style scoped>\n",
       "    .dataframe tbody tr th:only-of-type {\n",
       "        vertical-align: middle;\n",
       "    }\n",
       "\n",
       "    .dataframe tbody tr th {\n",
       "        vertical-align: top;\n",
       "    }\n",
       "\n",
       "    .dataframe thead th {\n",
       "        text-align: right;\n",
       "    }\n",
       "</style>\n",
       "<table border=\"1\" class=\"dataframe\">\n",
       "  <thead>\n",
       "    <tr style=\"text-align: right;\">\n",
       "      <th></th>\n",
       "      <th>0</th>\n",
       "      <th>qtd_categorias</th>\n",
       "    </tr>\n",
       "  </thead>\n",
       "  <tbody>\n",
       "    <tr>\n",
       "      <th>sexo</th>\n",
       "      <td>object</td>\n",
       "      <td>2</td>\n",
       "    </tr>\n",
       "    <tr>\n",
       "      <th>posse_de_veiculo</th>\n",
       "      <td>object</td>\n",
       "      <td>2</td>\n",
       "    </tr>\n",
       "    <tr>\n",
       "      <th>posse_de_imovel</th>\n",
       "      <td>object</td>\n",
       "      <td>2</td>\n",
       "    </tr>\n",
       "    <tr>\n",
       "      <th>qtd_filhos</th>\n",
       "      <td>int64</td>\n",
       "      <td>8</td>\n",
       "    </tr>\n",
       "    <tr>\n",
       "      <th>tipo_renda</th>\n",
       "      <td>object</td>\n",
       "      <td>5</td>\n",
       "    </tr>\n",
       "    <tr>\n",
       "      <th>educacao</th>\n",
       "      <td>object</td>\n",
       "      <td>5</td>\n",
       "    </tr>\n",
       "    <tr>\n",
       "      <th>estado_civil</th>\n",
       "      <td>object</td>\n",
       "      <td>5</td>\n",
       "    </tr>\n",
       "    <tr>\n",
       "      <th>tipo_residencia</th>\n",
       "      <td>object</td>\n",
       "      <td>6</td>\n",
       "    </tr>\n",
       "    <tr>\n",
       "      <th>idade</th>\n",
       "      <td>float64</td>\n",
       "      <td>5298</td>\n",
       "    </tr>\n",
       "    <tr>\n",
       "      <th>tempo_emprego</th>\n",
       "      <td>float64</td>\n",
       "      <td>3005</td>\n",
       "    </tr>\n",
       "    <tr>\n",
       "      <th>possui_celular</th>\n",
       "      <td>int64</td>\n",
       "      <td>1</td>\n",
       "    </tr>\n",
       "    <tr>\n",
       "      <th>possui_fone_comercial</th>\n",
       "      <td>int64</td>\n",
       "      <td>2</td>\n",
       "    </tr>\n",
       "    <tr>\n",
       "      <th>possui_fone</th>\n",
       "      <td>int64</td>\n",
       "      <td>2</td>\n",
       "    </tr>\n",
       "    <tr>\n",
       "      <th>possui_email</th>\n",
       "      <td>int64</td>\n",
       "      <td>2</td>\n",
       "    </tr>\n",
       "    <tr>\n",
       "      <th>qt_pessoas_residencia</th>\n",
       "      <td>float64</td>\n",
       "      <td>9</td>\n",
       "    </tr>\n",
       "    <tr>\n",
       "      <th>mau</th>\n",
       "      <td>bool</td>\n",
       "      <td>2</td>\n",
       "    </tr>\n",
       "  </tbody>\n",
       "</table>\n",
       "</div>"
      ],
      "text/plain": [
       "                             0  qtd_categorias\n",
       "sexo                    object               2\n",
       "posse_de_veiculo        object               2\n",
       "posse_de_imovel         object               2\n",
       "qtd_filhos               int64               8\n",
       "tipo_renda              object               5\n",
       "educacao                object               5\n",
       "estado_civil            object               5\n",
       "tipo_residencia         object               6\n",
       "idade                  float64            5298\n",
       "tempo_emprego          float64            3005\n",
       "possui_celular           int64               1\n",
       "possui_fone_comercial    int64               2\n",
       "possui_fone              int64               2\n",
       "possui_email             int64               2\n",
       "qt_pessoas_residencia  float64               9\n",
       "mau                       bool               2"
      ]
     },
     "execution_count": 6,
     "metadata": {},
     "output_type": "execute_result"
    }
   ],
   "source": [
    "tipo_dados.insert(1,'qtd_categorias', qtd_categorias)\n",
    "\n",
    "tipo_dados"
   ]
  },
  {
   "cell_type": "markdown",
   "id": "826ec511",
   "metadata": {
    "papermill": {
     "duration": 0.005857,
     "end_time": "2023-03-10T01:58:41.422157",
     "exception": false,
     "start_time": "2023-03-10T01:58:41.4163",
     "status": "completed"
    },
    "tags": []
   },
   "source": [
    "#### 3) Crie variáveis dummy para as variáveis necessárias (i.e. aquelas que são qualitativas e não estão armazenadas como {0, 1} ou {True, False}. Crie um *dataframe* apenas com as variáveis apropriadas para entrada no scikitlearn - elimine as variáveis tipo *str*, mantendo apenas suas versões *dummy*."
   ]
  },
  {
   "cell_type": "code",
   "execution_count": 7,
   "id": "9e035fd9",
   "metadata": {
    "execution": {
     "iopub.execute_input": "2023-03-10T01:58:41.436839Z",
     "iopub.status.busy": "2023-03-10T01:58:41.436398Z",
     "iopub.status.idle": "2023-03-10T01:58:41.488112Z",
     "shell.execute_reply": "2023-03-10T01:58:41.486614Z"
    },
    "papermill": {
     "duration": 0.063448,
     "end_time": "2023-03-10T01:58:41.491793",
     "exception": false,
     "start_time": "2023-03-10T01:58:41.428345",
     "status": "completed"
    },
    "tags": []
   },
   "outputs": [
    {
     "data": {
      "text/html": [
       "<div>\n",
       "<style scoped>\n",
       "    .dataframe tbody tr th:only-of-type {\n",
       "        vertical-align: middle;\n",
       "    }\n",
       "\n",
       "    .dataframe tbody tr th {\n",
       "        vertical-align: top;\n",
       "    }\n",
       "\n",
       "    .dataframe thead th {\n",
       "        text-align: right;\n",
       "    }\n",
       "</style>\n",
       "<table border=\"1\" class=\"dataframe\">\n",
       "  <thead>\n",
       "    <tr style=\"text-align: right;\">\n",
       "      <th></th>\n",
       "      <th>qtd_filhos</th>\n",
       "      <th>idade</th>\n",
       "      <th>tempo_emprego</th>\n",
       "      <th>possui_celular</th>\n",
       "      <th>possui_fone_comercial</th>\n",
       "      <th>possui_fone</th>\n",
       "      <th>possui_email</th>\n",
       "      <th>qt_pessoas_residencia</th>\n",
       "      <th>mau</th>\n",
       "      <th>sexo_M</th>\n",
       "      <th>...</th>\n",
       "      <th>educacao_Secondary / secondary special</th>\n",
       "      <th>estado_civil_Married</th>\n",
       "      <th>estado_civil_Separated</th>\n",
       "      <th>estado_civil_Single / not married</th>\n",
       "      <th>estado_civil_Widow</th>\n",
       "      <th>tipo_residencia_House / apartment</th>\n",
       "      <th>tipo_residencia_Municipal apartment</th>\n",
       "      <th>tipo_residencia_Office apartment</th>\n",
       "      <th>tipo_residencia_Rented apartment</th>\n",
       "      <th>tipo_residencia_With parents</th>\n",
       "    </tr>\n",
       "  </thead>\n",
       "  <tbody>\n",
       "    <tr>\n",
       "      <th>0</th>\n",
       "      <td>0</td>\n",
       "      <td>58.832877</td>\n",
       "      <td>3.106849</td>\n",
       "      <td>1</td>\n",
       "      <td>0</td>\n",
       "      <td>0</td>\n",
       "      <td>0</td>\n",
       "      <td>2.0</td>\n",
       "      <td>False</td>\n",
       "      <td>1</td>\n",
       "      <td>...</td>\n",
       "      <td>1</td>\n",
       "      <td>1</td>\n",
       "      <td>0</td>\n",
       "      <td>0</td>\n",
       "      <td>0</td>\n",
       "      <td>1</td>\n",
       "      <td>0</td>\n",
       "      <td>0</td>\n",
       "      <td>0</td>\n",
       "      <td>0</td>\n",
       "    </tr>\n",
       "    <tr>\n",
       "      <th>1</th>\n",
       "      <td>0</td>\n",
       "      <td>52.356164</td>\n",
       "      <td>8.358904</td>\n",
       "      <td>1</td>\n",
       "      <td>0</td>\n",
       "      <td>1</td>\n",
       "      <td>1</td>\n",
       "      <td>1.0</td>\n",
       "      <td>False</td>\n",
       "      <td>0</td>\n",
       "      <td>...</td>\n",
       "      <td>1</td>\n",
       "      <td>0</td>\n",
       "      <td>0</td>\n",
       "      <td>1</td>\n",
       "      <td>0</td>\n",
       "      <td>1</td>\n",
       "      <td>0</td>\n",
       "      <td>0</td>\n",
       "      <td>0</td>\n",
       "      <td>0</td>\n",
       "    </tr>\n",
       "    <tr>\n",
       "      <th>2</th>\n",
       "      <td>0</td>\n",
       "      <td>52.356164</td>\n",
       "      <td>8.358904</td>\n",
       "      <td>1</td>\n",
       "      <td>0</td>\n",
       "      <td>1</td>\n",
       "      <td>1</td>\n",
       "      <td>1.0</td>\n",
       "      <td>False</td>\n",
       "      <td>0</td>\n",
       "      <td>...</td>\n",
       "      <td>1</td>\n",
       "      <td>0</td>\n",
       "      <td>0</td>\n",
       "      <td>1</td>\n",
       "      <td>0</td>\n",
       "      <td>1</td>\n",
       "      <td>0</td>\n",
       "      <td>0</td>\n",
       "      <td>0</td>\n",
       "      <td>0</td>\n",
       "    </tr>\n",
       "    <tr>\n",
       "      <th>3</th>\n",
       "      <td>0</td>\n",
       "      <td>46.224658</td>\n",
       "      <td>2.106849</td>\n",
       "      <td>1</td>\n",
       "      <td>1</td>\n",
       "      <td>1</td>\n",
       "      <td>1</td>\n",
       "      <td>2.0</td>\n",
       "      <td>False</td>\n",
       "      <td>1</td>\n",
       "      <td>...</td>\n",
       "      <td>0</td>\n",
       "      <td>1</td>\n",
       "      <td>0</td>\n",
       "      <td>0</td>\n",
       "      <td>0</td>\n",
       "      <td>1</td>\n",
       "      <td>0</td>\n",
       "      <td>0</td>\n",
       "      <td>0</td>\n",
       "      <td>0</td>\n",
       "    </tr>\n",
       "    <tr>\n",
       "      <th>4</th>\n",
       "      <td>0</td>\n",
       "      <td>29.230137</td>\n",
       "      <td>3.021918</td>\n",
       "      <td>1</td>\n",
       "      <td>0</td>\n",
       "      <td>0</td>\n",
       "      <td>0</td>\n",
       "      <td>2.0</td>\n",
       "      <td>False</td>\n",
       "      <td>0</td>\n",
       "      <td>...</td>\n",
       "      <td>0</td>\n",
       "      <td>1</td>\n",
       "      <td>0</td>\n",
       "      <td>0</td>\n",
       "      <td>0</td>\n",
       "      <td>1</td>\n",
       "      <td>0</td>\n",
       "      <td>0</td>\n",
       "      <td>0</td>\n",
       "      <td>0</td>\n",
       "    </tr>\n",
       "  </tbody>\n",
       "</table>\n",
       "<p>5 rows × 29 columns</p>\n",
       "</div>"
      ],
      "text/plain": [
       "   qtd_filhos      idade  tempo_emprego  possui_celular  \\\n",
       "0           0  58.832877       3.106849               1   \n",
       "1           0  52.356164       8.358904               1   \n",
       "2           0  52.356164       8.358904               1   \n",
       "3           0  46.224658       2.106849               1   \n",
       "4           0  29.230137       3.021918               1   \n",
       "\n",
       "   possui_fone_comercial  possui_fone  possui_email  qt_pessoas_residencia  \\\n",
       "0                      0            0             0                    2.0   \n",
       "1                      0            1             1                    1.0   \n",
       "2                      0            1             1                    1.0   \n",
       "3                      1            1             1                    2.0   \n",
       "4                      0            0             0                    2.0   \n",
       "\n",
       "     mau  sexo_M  ...  educacao_Secondary / secondary special  \\\n",
       "0  False       1  ...                                       1   \n",
       "1  False       0  ...                                       1   \n",
       "2  False       0  ...                                       1   \n",
       "3  False       1  ...                                       0   \n",
       "4  False       0  ...                                       0   \n",
       "\n",
       "   estado_civil_Married  estado_civil_Separated  \\\n",
       "0                     1                       0   \n",
       "1                     0                       0   \n",
       "2                     0                       0   \n",
       "3                     1                       0   \n",
       "4                     1                       0   \n",
       "\n",
       "   estado_civil_Single / not married  estado_civil_Widow  \\\n",
       "0                                  0                   0   \n",
       "1                                  1                   0   \n",
       "2                                  1                   0   \n",
       "3                                  0                   0   \n",
       "4                                  0                   0   \n",
       "\n",
       "   tipo_residencia_House / apartment  tipo_residencia_Municipal apartment  \\\n",
       "0                                  1                                    0   \n",
       "1                                  1                                    0   \n",
       "2                                  1                                    0   \n",
       "3                                  1                                    0   \n",
       "4                                  1                                    0   \n",
       "\n",
       "   tipo_residencia_Office apartment  tipo_residencia_Rented apartment  \\\n",
       "0                                 0                                 0   \n",
       "1                                 0                                 0   \n",
       "2                                 0                                 0   \n",
       "3                                 0                                 0   \n",
       "4                                 0                                 0   \n",
       "\n",
       "   tipo_residencia_With parents  \n",
       "0                             0  \n",
       "1                             0  \n",
       "2                             0  \n",
       "3                             0  \n",
       "4                             0  \n",
       "\n",
       "[5 rows x 29 columns]"
      ]
     },
     "execution_count": 7,
     "metadata": {},
     "output_type": "execute_result"
    }
   ],
   "source": [
    "#Utilizando o pd.get_dummies para os dados tipo string.\n",
    "dados_limpos= pd.get_dummies(dados, columns=['sexo', 'posse_de_veiculo', 'posse_de_imovel',\n",
    "       'tipo_renda', 'educacao', 'estado_civil', 'tipo_residencia'], drop_first=True)\n",
    "dados_limpos.head(5)"
   ]
  },
  {
   "cell_type": "code",
   "execution_count": 8,
   "id": "ef5c3785",
   "metadata": {
    "execution": {
     "iopub.execute_input": "2023-03-10T01:58:41.507346Z",
     "iopub.status.busy": "2023-03-10T01:58:41.506853Z",
     "iopub.status.idle": "2023-03-10T01:58:41.517476Z",
     "shell.execute_reply": "2023-03-10T01:58:41.516079Z"
    },
    "papermill": {
     "duration": 0.021692,
     "end_time": "2023-03-10T01:58:41.520295",
     "exception": false,
     "start_time": "2023-03-10T01:58:41.498603",
     "status": "completed"
    },
    "tags": []
   },
   "outputs": [
    {
     "data": {
      "text/plain": [
       "qtd_filhos                                  int64\n",
       "idade                                     float64\n",
       "tempo_emprego                             float64\n",
       "possui_celular                              int64\n",
       "possui_fone_comercial                       int64\n",
       "possui_fone                                 int64\n",
       "possui_email                                int64\n",
       "qt_pessoas_residencia                     float64\n",
       "mau                                          bool\n",
       "sexo_M                                      uint8\n",
       "posse_de_veiculo_Y                          uint8\n",
       "posse_de_imovel_Y                           uint8\n",
       "tipo_renda_Pensioner                        uint8\n",
       "tipo_renda_State servant                    uint8\n",
       "tipo_renda_Student                          uint8\n",
       "tipo_renda_Working                          uint8\n",
       "educacao_Higher education                   uint8\n",
       "educacao_Incomplete higher                  uint8\n",
       "educacao_Lower secondary                    uint8\n",
       "educacao_Secondary / secondary special      uint8\n",
       "estado_civil_Married                        uint8\n",
       "estado_civil_Separated                      uint8\n",
       "estado_civil_Single / not married           uint8\n",
       "estado_civil_Widow                          uint8\n",
       "tipo_residencia_House / apartment           uint8\n",
       "tipo_residencia_Municipal apartment         uint8\n",
       "tipo_residencia_Office apartment            uint8\n",
       "tipo_residencia_Rented apartment            uint8\n",
       "tipo_residencia_With parents                uint8\n",
       "dtype: object"
      ]
     },
     "execution_count": 8,
     "metadata": {},
     "output_type": "execute_result"
    }
   ],
   "source": [
    "dados_limpos.dtypes"
   ]
  },
  {
   "cell_type": "markdown",
   "id": "68eb8afc",
   "metadata": {
    "papermill": {
     "duration": 0.006964,
     "end_time": "2023-03-10T01:58:41.534053",
     "exception": false,
     "start_time": "2023-03-10T01:58:41.527089",
     "status": "completed"
    },
    "tags": []
   },
   "source": [
    "#### 4) Qual variável é mais poderosa?\n",
    "\n",
    "Considere as variáveis ```possui_email``` e ```posse_de_veiculo```. Faça uma tabela cruzada entre elas e responda qual delas te parece mais poderosa para prever a probabilidade de ```mau = 1```?"
   ]
  },
  {
   "cell_type": "code",
   "execution_count": 9,
   "id": "91f67a90",
   "metadata": {
    "execution": {
     "iopub.execute_input": "2023-03-10T01:58:41.549906Z",
     "iopub.status.busy": "2023-03-10T01:58:41.549488Z",
     "iopub.status.idle": "2023-03-10T01:58:41.55779Z",
     "shell.execute_reply": "2023-03-10T01:58:41.556465Z"
    },
    "papermill": {
     "duration": 0.019604,
     "end_time": "2023-03-10T01:58:41.56049",
     "exception": false,
     "start_time": "2023-03-10T01:58:41.540886",
     "status": "completed"
    },
    "tags": []
   },
   "outputs": [
    {
     "data": {
      "text/plain": [
       "array([False,  True])"
      ]
     },
     "execution_count": 9,
     "metadata": {},
     "output_type": "execute_result"
    }
   ],
   "source": [
    "dados_limpos.mau.unique()"
   ]
  },
  {
   "cell_type": "code",
   "execution_count": 10,
   "id": "6c82ef5c",
   "metadata": {
    "execution": {
     "iopub.execute_input": "2023-03-10T01:58:41.576769Z",
     "iopub.status.busy": "2023-03-10T01:58:41.576233Z",
     "iopub.status.idle": "2023-03-10T01:58:41.610804Z",
     "shell.execute_reply": "2023-03-10T01:58:41.609616Z"
    },
    "papermill": {
     "duration": 0.04565,
     "end_time": "2023-03-10T01:58:41.613469",
     "exception": false,
     "start_time": "2023-03-10T01:58:41.567819",
     "status": "completed"
    },
    "tags": []
   },
   "outputs": [
    {
     "data": {
      "text/html": [
       "<div>\n",
       "<style scoped>\n",
       "    .dataframe tbody tr th:only-of-type {\n",
       "        vertical-align: middle;\n",
       "    }\n",
       "\n",
       "    .dataframe tbody tr th {\n",
       "        vertical-align: top;\n",
       "    }\n",
       "\n",
       "    .dataframe thead th {\n",
       "        text-align: right;\n",
       "    }\n",
       "</style>\n",
       "<table border=\"1\" class=\"dataframe\">\n",
       "  <thead>\n",
       "    <tr style=\"text-align: right;\">\n",
       "      <th>posse_de_veiculo</th>\n",
       "      <th>N</th>\n",
       "      <th>Y</th>\n",
       "    </tr>\n",
       "    <tr>\n",
       "      <th>mau</th>\n",
       "      <th></th>\n",
       "      <th></th>\n",
       "    </tr>\n",
       "  </thead>\n",
       "  <tbody>\n",
       "    <tr>\n",
       "      <th>False</th>\n",
       "      <td>0.610763</td>\n",
       "      <td>0.389237</td>\n",
       "    </tr>\n",
       "    <tr>\n",
       "      <th>True</th>\n",
       "      <td>0.633333</td>\n",
       "      <td>0.366667</td>\n",
       "    </tr>\n",
       "  </tbody>\n",
       "</table>\n",
       "</div>"
      ],
      "text/plain": [
       "posse_de_veiculo         N         Y\n",
       "mau                                 \n",
       "False             0.610763  0.389237\n",
       "True              0.633333  0.366667"
      ]
     },
     "execution_count": 10,
     "metadata": {},
     "output_type": "execute_result"
    }
   ],
   "source": [
    "maus_carro = pd.crosstab(dados_limpos['mau'],dados['posse_de_veiculo'])\n",
    "maus_carroporc = maus_carro.div(maus_carro.sum(axis=1),axis=0)\n",
    "maus_carroporc"
   ]
  },
  {
   "cell_type": "code",
   "execution_count": 11,
   "id": "c9c51143",
   "metadata": {
    "execution": {
     "iopub.execute_input": "2023-03-10T01:58:41.629747Z",
     "iopub.status.busy": "2023-03-10T01:58:41.629295Z",
     "iopub.status.idle": "2023-03-10T01:58:41.653571Z",
     "shell.execute_reply": "2023-03-10T01:58:41.652388Z"
    },
    "papermill": {
     "duration": 0.03551,
     "end_time": "2023-03-10T01:58:41.656198",
     "exception": false,
     "start_time": "2023-03-10T01:58:41.620688",
     "status": "completed"
    },
    "tags": []
   },
   "outputs": [
    {
     "data": {
      "text/html": [
       "<div>\n",
       "<style scoped>\n",
       "    .dataframe tbody tr th:only-of-type {\n",
       "        vertical-align: middle;\n",
       "    }\n",
       "\n",
       "    .dataframe tbody tr th {\n",
       "        vertical-align: top;\n",
       "    }\n",
       "\n",
       "    .dataframe thead th {\n",
       "        text-align: right;\n",
       "    }\n",
       "</style>\n",
       "<table border=\"1\" class=\"dataframe\">\n",
       "  <thead>\n",
       "    <tr style=\"text-align: right;\">\n",
       "      <th>possui_email</th>\n",
       "      <th>0</th>\n",
       "      <th>1</th>\n",
       "    </tr>\n",
       "    <tr>\n",
       "      <th>mau</th>\n",
       "      <th></th>\n",
       "      <th></th>\n",
       "    </tr>\n",
       "  </thead>\n",
       "  <tbody>\n",
       "    <tr>\n",
       "      <th>False</th>\n",
       "      <td>0.910824</td>\n",
       "      <td>0.089176</td>\n",
       "    </tr>\n",
       "    <tr>\n",
       "      <th>True</th>\n",
       "      <td>0.923077</td>\n",
       "      <td>0.076923</td>\n",
       "    </tr>\n",
       "  </tbody>\n",
       "</table>\n",
       "</div>"
      ],
      "text/plain": [
       "possui_email         0         1\n",
       "mau                             \n",
       "False         0.910824  0.089176\n",
       "True          0.923077  0.076923"
      ]
     },
     "execution_count": 11,
     "metadata": {},
     "output_type": "execute_result"
    }
   ],
   "source": [
    "maus_email = pd.crosstab(dados_limpos['mau'], dados['possui_email'])\n",
    "maus_emailporc = maus_email.div(maus_email.sum(axis=1),axis=0)\n",
    "maus_emailporc"
   ]
  },
  {
   "cell_type": "markdown",
   "id": "a749784f",
   "metadata": {
    "papermill": {
     "duration": 0.006899,
     "end_time": "2023-03-10T01:58:41.670584",
     "exception": false,
     "start_time": "2023-03-10T01:58:41.663685",
     "status": "completed"
    },
    "tags": []
   },
   "source": [
    "Enquanto os maus pagadores 63,3% não possuem carro e 92,3% não possuem e-mail. Entretanto a diferença de frequência não parece significativa ao comparar com o grupo controle de bons pagadores. "
   ]
  },
  {
   "cell_type": "markdown",
   "id": "ebc7b43d",
   "metadata": {
    "papermill": {
     "duration": 0.006737,
     "end_time": "2023-03-10T01:58:41.684584",
     "exception": false,
     "start_time": "2023-03-10T01:58:41.677847",
     "status": "completed"
    },
    "tags": []
   },
   "source": [
    "#### 5) Salve a base, pois ela será utilizada no final deste módulo."
   ]
  },
  {
   "cell_type": "code",
   "execution_count": 12,
   "id": "43e8b5b3",
   "metadata": {
    "execution": {
     "iopub.execute_input": "2023-03-10T01:58:41.701941Z",
     "iopub.status.busy": "2023-03-10T01:58:41.700699Z",
     "iopub.status.idle": "2023-03-10T01:58:41.846679Z",
     "shell.execute_reply": "2023-03-10T01:58:41.845306Z"
    },
    "papermill": {
     "duration": 0.157806,
     "end_time": "2023-03-10T01:58:41.849646",
     "exception": false,
     "start_time": "2023-03-10T01:58:41.69184",
     "status": "completed"
    },
    "tags": []
   },
   "outputs": [],
   "source": [
    "dados_limpos.to_csv('dados_limpos.csv')"
   ]
  }
 ],
 "metadata": {
  "kernelspec": {
   "display_name": "Python 3 (ipykernel)",
   "language": "python",
   "name": "python3"
  },
  "language_info": {
   "codemirror_mode": {
    "name": "ipython",
    "version": 3
   },
   "file_extension": ".py",
   "mimetype": "text/x-python",
   "name": "python",
   "nbconvert_exporter": "python",
   "pygments_lexer": "ipython3",
   "version": "3.9.16"
  },
  "papermill": {
   "default_parameters": {},
   "duration": 13.860901,
   "end_time": "2023-03-10T01:58:42.579954",
   "environment_variables": {},
   "exception": null,
   "input_path": "__notebook__.ipynb",
   "output_path": "__notebook__.ipynb",
   "parameters": {},
   "start_time": "2023-03-10T01:58:28.719053",
   "version": "2.4.0"
  }
 },
 "nbformat": 4,
 "nbformat_minor": 5
}
