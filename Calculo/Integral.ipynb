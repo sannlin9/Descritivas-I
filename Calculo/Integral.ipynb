{
 "cells": [
  {
   "cell_type": "markdown",
   "metadata": {},
   "source": [
    "# Cálculo - Tarefa 02\n",
    "\n",
    "1- Calcule de forma numérica a integral da função $x^3$ avaliada entre os pontos $1$ e $2$. Identifique o número de retângulos que você usou.  \n",
    "2- Calcule essa área de forma analítica."
   ]
  },
  {
   "cell_type": "code",
   "execution_count": 15,
   "metadata": {
    "ExecuteTime": {
     "end_time": "2023-04-18T14:44:00.656407Z",
     "start_time": "2023-04-18T14:44:00.638457Z"
    }
   },
   "outputs": [
    {
     "name": "stdout",
     "output_type": "stream",
     "text": [
      "f(𝑥³) entre 1 e 2\n",
      "Integral aproximada: 3.743002999999997\n",
      "Número de retângulos: 500\n"
     ]
    }
   ],
   "source": [
    "a = 1  # limite inferior\n",
    "b = 2  # limite superior\n",
    "n = 500  # número de retângulos\n",
    "\n",
    "def f(x):\n",
    "    return x**3\n",
    "\n",
    "dx = (b - a) / n\n",
    "\n",
    "integral = 0\n",
    "for i in range(n):\n",
    "    x = a + i*dx  # coordenada x do lado do retângulo\n",
    "    area = f(x)*dx  # área do retângulo\n",
    "    integral += area\n",
    "    \n",
    "    \n",
    "print(f'f(𝑥³) entre 1 e 2')\n",
    "print(\"Integral aproximada:\", integral)\n",
    "print(\"Número de retângulos:\", n) # quanto maior o número de retangulos mais precisa será a aproximação."
   ]
  },
  {
   "cell_type": "markdown",
   "metadata": {
    "ExecuteTime": {
     "end_time": "2023-04-18T14:39:49.921719Z",
     "start_time": "2023-04-18T14:39:49.903746Z"
    }
   },
   "source": [
    "∫[1,2] 𝑥³ dx\n",
    "\n",
    "-----------\n",
    "\n",
    "∫[1,2] 𝑥³ dx = [(𝑥⁴)/4] de 1 a 2\n",
    "\n",
    "----------\n",
    "\n",
    "[(2⁴)/4] - [(1⁴)/4] = (16/4) - (1/4) = 15/4\n",
    "\n",
    "----------\n",
    "∫[1,2] 𝑥³ dx = 15/4\n",
    "\n",
    "ou 3,75"
   ]
  },
  {
   "cell_type": "code",
   "execution_count": 19,
   "metadata": {
    "ExecuteTime": {
     "end_time": "2023-04-18T14:47:37.575382Z",
     "start_time": "2023-04-18T14:47:37.566435Z"
    }
   },
   "outputs": [
    {
     "data": {
      "text/plain": [
       "0.0069970000000028065"
      ]
     },
     "execution_count": 19,
     "metadata": {},
     "output_type": "execute_result"
    }
   ],
   "source": [
    "area_real = 3.75\n",
    "\n",
    "erro = (area_real - integral)\n",
    "\n",
    "erro"
   ]
  }
 ],
 "metadata": {
  "hide_input": false,
  "kernelspec": {
   "display_name": "Python 3 (ipykernel)",
   "language": "python",
   "name": "python3"
  },
  "language_info": {
   "codemirror_mode": {
    "name": "ipython",
    "version": 3
   },
   "file_extension": ".py",
   "mimetype": "text/x-python",
   "name": "python",
   "nbconvert_exporter": "python",
   "pygments_lexer": "ipython3",
   "version": "3.9.16"
  },
  "nbTranslate": {
   "displayLangs": [
    "*"
   ],
   "hotkey": "alt-t",
   "langInMainMenu": true,
   "sourceLang": "en",
   "targetLang": "fr",
   "useGoogleTranslate": true
  },
  "toc": {
   "base_numbering": 1,
   "nav_menu": {},
   "number_sections": true,
   "sideBar": true,
   "skip_h1_title": true,
   "title_cell": "Índice",
   "title_sidebar": "Conteúdo",
   "toc_cell": false,
   "toc_position": {},
   "toc_section_display": true,
   "toc_window_display": false
  },
  "varInspector": {
   "cols": {
    "lenName": 16,
    "lenType": 16,
    "lenVar": 40
   },
   "kernels_config": {
    "python": {
     "delete_cmd_postfix": "",
     "delete_cmd_prefix": "del ",
     "library": "var_list.py",
     "varRefreshCmd": "print(var_dic_list())"
    },
    "r": {
     "delete_cmd_postfix": ") ",
     "delete_cmd_prefix": "rm(",
     "library": "var_list.r",
     "varRefreshCmd": "cat(var_dic_list()) "
    }
   },
   "types_to_exclude": [
    "module",
    "function",
    "builtin_function_or_method",
    "instance",
    "_Feature"
   ],
   "window_display": false
  },
  "vp": {
   "vp_config_version": "1.0.0",
   "vp_menu_width": 273,
   "vp_note_display": false,
   "vp_note_width": 0,
   "vp_position": {
    "width": 278
   },
   "vp_section_display": false,
   "vp_signature": "VisualPython"
  }
 },
 "nbformat": 4,
 "nbformat_minor": 4
}
