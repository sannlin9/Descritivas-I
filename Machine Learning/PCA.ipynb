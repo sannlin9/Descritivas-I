{
 "cells": [
  {
   "cell_type": "markdown",
   "metadata": {},
   "source": [
    "![Cabec%CC%A7alho_notebook.png](cabecalho_notebook.png)"
   ]
  },
  {
   "cell_type": "markdown",
   "metadata": {},
   "source": [
    "# PCA - Tarefa 01: *HAR* com PCA\n",
    "\n",
    "Vamos trabalhar com a base da demonstração feita em aula, mas vamos explorar um pouco melhor como é o desempenho da árvore variando o número de componentes principais."
   ]
  },
  {
   "cell_type": "code",
   "execution_count": 1,
   "metadata": {
    "ExecuteTime": {
     "end_time": "2023-04-19T17:01:34.784395Z",
     "start_time": "2023-04-19T17:01:30.230820Z"
    }
   },
   "outputs": [],
   "source": [
    "import numpy as np\n",
    "import pandas as pd\n",
    "import matplotlib.pyplot as plt\n",
    "import seaborn as sns\n",
    "\n",
    "from sklearn.tree import DecisionTreeClassifier\n",
    "\n",
    "from sklearn.decomposition import PCA\n",
    "from sklearn.metrics import accuracy_score\n",
    "from sklearn.model_selection import cross_val_score\n",
    "from sklearn.model_selection import GridSearchCV\n",
    "\n",
    "filename_features = r\"C:\\Users\\sann_\\Documentos\\curso\\Projetos_CD\\Projecto atividade humana\\dados\\features.txt\"\n",
    "filename_labels = r\"C:\\Users\\sann_\\Documentos\\curso\\Projetos_CD\\Projecto atividade humana\\dados\\activity_labels.txt\"\n",
    "\n",
    "filename_subtrain = r\"C:\\Users\\sann_\\Documentos\\curso\\Projetos_CD\\Projecto atividade humana\\dados\\UCI HAR Dataset\\train\\subject_train.txt\"\n",
    "filename_xtrain = r\"C:\\Users\\sann_\\Documentos\\curso\\Projetos_CD\\Projecto atividade humana\\dados\\UCI HAR Dataset\\train\\X_train.txt\"\n",
    "filename_ytrain = r\"C:\\Users\\sann_\\Documentos\\curso\\Projetos_CD\\Projecto atividade humana\\dados\\UCI HAR Dataset\\train\\y_train.txt\"\n",
    "\n",
    "filename_subtest = r\"C:\\Users\\sann_\\Documentos\\curso\\Projetos_CD\\Projecto atividade humana\\dados\\UCI HAR Dataset\\test\\subject_test.txt\"\n",
    "ffilename_xtest = r\"C:\\Users\\sann_\\Documentos\\curso\\Projetos_CD\\Projecto atividade humana\\dados\\UCI HAR Dataset\\test\\X_test.txt\"\n",
    "filename_ytest = r\"C:\\Users\\sann_\\Documentos\\curso\\Projetos_CD\\Projecto atividade humana\\dados\\UCI HAR Dataset\\test\\y_test.txt\"\n",
    "\n",
    "features = pd.read_csv(filename_features, header=None, names=['nome_var'], sep=\"#\").squeeze(\"columns\")\n",
    "labels = pd.read_csv(filename_labels, delim_whitespace=True, header=None, names=['cod_label', 'label'])\n",
    "\n",
    "subject_train = pd.read_csv(filename_subtrain, header=None, names=['subject_id']).squeeze(\"columns\")\n",
    "X_train = pd.read_csv(filename_xtrain, delim_whitespace=True, header=None, names=features.tolist())\n",
    "y_train = pd.read_csv(filename_ytrain, header=None, names=['cod_label'])\n",
    "\n",
    "subject_test = pd.read_csv(filename_subtest, header=None, names=['subject_id']).squeeze(\"columns\")\n",
    "X_test = pd.read_csv(ffilename_xtest, delim_whitespace=True, header=None, names=features.tolist())\n",
    "y_test = pd.read_csv(filename_ytest, header=None, names=['cod_label'])"
   ]
  },
  {
   "cell_type": "markdown",
   "metadata": {},
   "source": [
    "## Árvore de decisão\n",
    "\n",
    "Rode uma árvore de decisão com todas as variáveis, utilizando o ```ccp_alpha=0.001```. Avalie a acurácia nas bases de treinamento e teste. Avalie o tempo de processamento."
   ]
  },
  {
   "cell_type": "code",
   "execution_count": 2,
   "metadata": {
    "ExecuteTime": {
     "end_time": "2023-04-19T17:01:38.744451Z",
     "start_time": "2023-04-19T17:01:34.786294Z"
    }
   },
   "outputs": [
    {
     "name": "stdout",
     "output_type": "stream",
     "text": [
      "Acurácia da árvore na base de treino:    97.6\n",
      "Acurácia da árvore na base de teste:     88.2\n",
      "CPU times: total: 3.92 s\n",
      "Wall time: 3.94 s\n"
     ]
    }
   ],
   "source": [
    "%%time\n",
    "\n",
    "clf = DecisionTreeClassifier(random_state=123, ccp_alpha=0.001).fit(X_train, y_train)\n",
    "\n",
    "train_scores = clf.score(X_train, y_train)\n",
    "test_scores = clf.score(X_test, y_test)\n",
    "\n",
    "print(f'Acurácia da árvore na base de treino:    {train_scores*100:.1f}')\n",
    "print(f'Acurácia da árvore na base de teste:     {test_scores*100:.1f}')"
   ]
  },
  {
   "cell_type": "markdown",
   "metadata": {},
   "source": [
    "## Árvore com PCA\n",
    "\n",
    "Faça uma análise de componemtes principais das variáveis originais. Utilize apenas uma componente. Faça uma árvore de decisão com esta componente como variável explicativa.\n",
    "\n",
    "- Avalie a acurácia nas bases de treinamento e teste\n",
    "- Avalie o tempo de processamento"
   ]
  },
  {
   "cell_type": "code",
   "execution_count": 9,
   "metadata": {
    "ExecuteTime": {
     "end_time": "2023-04-19T17:08:54.136986Z",
     "start_time": "2023-04-19T17:08:53.960461Z"
    },
    "scrolled": false
   },
   "outputs": [
    {
     "name": "stdout",
     "output_type": "stream",
     "text": [
      "Acurácia da árvore na base de treino:    50.0\n",
      "Acurácia da árvore na base de teste:     45.7\n",
      "CPU times: total: 531 ms\n",
      "Wall time: 161 ms\n"
     ]
    }
   ],
   "source": [
    "%%time\n",
    "\n",
    "import warnings\n",
    "warnings.filterwarnings(\"ignore\")\n",
    "\n",
    "n=1\n",
    "\n",
    "# aplicando PCA\n",
    "prcomp = PCA(n_components=n).fit(X_train)\n",
    "\n",
    "pc_treino = prcomp.transform(X_train)\n",
    "pc_teste  = prcomp.transform(X_test)\n",
    "\n",
    "colunas = ['cp'+str(x+1) for x in list(range(n))]\n",
    "\n",
    "# treinando modelo de árvore de decisão\n",
    "\n",
    "clf = DecisionTreeClassifier(random_state=123, ccp_alpha=0.001).fit(pc_treino, y_train)\n",
    "\n",
    "# calculando acurácia\n",
    "train_scores = clf.score(pc_treino, y_train)\n",
    "test_scores = clf.score(pc_teste, y_test)\n",
    "\n",
    "print(f'Acurácia da árvore na base de treino:    {train_scores*100:.1f}')\n",
    "print(f'Acurácia da árvore na base de teste:     {test_scores*100:.1f}')\n"
   ]
  },
  {
   "cell_type": "markdown",
   "metadata": {},
   "source": [
    "## Testando o número de componentes\n",
    "\n",
    "Com base no código acima, teste a árvore de classificação com pelo menos as seguintes possibilidades de quantidades de componentes: ```[1, 2, 5, 10, 50]```. Avalie para cada uma delas:\n",
    "\n",
    "- Acurácia nas bases de treino e teste\n",
    "- Tempo de processamento\n"
   ]
  },
  {
   "cell_type": "code",
   "execution_count": 4,
   "metadata": {
    "ExecuteTime": {
     "end_time": "2023-04-19T17:01:44.370728Z",
     "start_time": "2023-04-19T17:01:42.961475Z"
    }
   },
   "outputs": [
    {
     "name": "stdout",
     "output_type": "stream",
     "text": [
      "Número de componentes principais: 1\n",
      "Acurácia na base de treino:       50.0\n",
      "Acurácia na base de teste:        45.7\n",
      "\n",
      "\n",
      "Número de componentes principais: 2\n",
      "Acurácia na base de treino:       61.3\n",
      "Acurácia na base de teste:        58.5\n",
      "\n",
      "\n",
      "Número de componentes principais: 5\n",
      "Acurácia na base de treino:       84.6\n",
      "Acurácia na base de teste:        78.9\n",
      "\n",
      "\n",
      "Número de componentes principais: 10\n",
      "Acurácia na base de treino:       89.1\n",
      "Acurácia na base de teste:        82.2\n",
      "\n",
      "\n",
      "Número de componentes principais: 50\n",
      "Acurácia na base de treino:       91.9\n",
      "Acurácia na base de teste:        82.2\n",
      "\n",
      "\n",
      "CPU times: total: 4.62 s\n",
      "Wall time: 1.4 s\n"
     ]
    }
   ],
   "source": [
    "%%time\n",
    "\n",
    "n_list = [1, 2, 5, 10, 50]\n",
    "\n",
    "for n in n_list:\n",
    "    # aplicando PCA\n",
    "    prcomp = PCA(n_components=n).fit(X_train)\n",
    "    pc_treino = prcomp.transform(X_train)\n",
    "    pc_teste = prcomp.transform(X_test)\n",
    "    colunas = ['cp'+str(x+1) for x in list(range(n))]\n",
    "    pc_train = pd.DataFrame(pc_treino[:,:n], columns = colunas)\n",
    "    pc_test = pd.DataFrame(pc_teste[:,:n], columns = colunas)\n",
    "\n",
    "    # treinando modelo de árvore de decisão\n",
    "    clf = DecisionTreeClassifier(random_state=123, ccp_alpha=0.001)\n",
    "    clf.fit(pc_train, y_train)\n",
    "\n",
    "    # calculando acurácia na base de treino\n",
    "    y_pred_train = clf.predict(pc_train)\n",
    "    acc_train = accuracy_score(y_train, y_pred_train)\n",
    "\n",
    "    # calculando acurácia na base de teste\n",
    "    y_pred_test = clf.predict(pc_test)\n",
    "    acc_teste = accuracy_score(y_test, y_pred_test)\n",
    "\n",
    "    # imprimindo resultados\n",
    "    print(f'Número de componentes principais: {n}')\n",
    "    print(f'Acurácia na base de treino:       {acc_train*100:.1f}')\n",
    "    print(f'Acurácia na base de teste:        {acc_teste*100:.1f}')\n",
    "    print('\\n')\n"
   ]
  },
  {
   "cell_type": "markdown",
   "metadata": {},
   "source": [
    "## Conclua\n",
    "\n",
    "- O que aconteceu com a acurácia?\n",
    "- O que aconteceu com o tempo de processamento?"
   ]
  },
  {
   "cell_type": "markdown",
   "metadata": {},
   "source": [
    "   A acurácia aumenta quanto mais componentes explicativos utilizamos no nosso modelo, porém o ganho em acurácia a partir de certo número de componentes não aumenta tanto, no modelo completo utilizando as 60 variáveis explicativas nossa acurácia na base de teste foi de: 88.2, não muito diferente do modelo treinado com 10 componentes que teve acurácia de 82,2. Devemos comparar a perda de acurácia versus o peso computacional do modelo em casos de maior escalabilidade e verificar qual escolha é mais viável.  "
   ]
  }
 ],
 "metadata": {
  "kernelspec": {
   "display_name": "Python 3 (ipykernel)",
   "language": "python",
   "name": "python3"
  },
  "language_info": {
   "codemirror_mode": {
    "name": "ipython",
    "version": 3
   },
   "file_extension": ".py",
   "mimetype": "text/x-python",
   "name": "python",
   "nbconvert_exporter": "python",
   "pygments_lexer": "ipython3",
   "version": "3.9.16"
  },
  "toc": {
   "base_numbering": 1,
   "nav_menu": {},
   "number_sections": true,
   "sideBar": true,
   "skip_h1_title": true,
   "title_cell": "Índice",
   "title_sidebar": "Conteúdo",
   "toc_cell": false,
   "toc_position": {},
   "toc_section_display": true,
   "toc_window_display": false
  },
  "varInspector": {
   "cols": {
    "lenName": 16,
    "lenType": 16,
    "lenVar": 40
   },
   "kernels_config": {
    "python": {
     "delete_cmd_postfix": "",
     "delete_cmd_prefix": "del ",
     "library": "var_list.py",
     "varRefreshCmd": "print(var_dic_list())"
    },
    "r": {
     "delete_cmd_postfix": ") ",
     "delete_cmd_prefix": "rm(",
     "library": "var_list.r",
     "varRefreshCmd": "cat(var_dic_list()) "
    }
   },
   "types_to_exclude": [
    "module",
    "function",
    "builtin_function_or_method",
    "instance",
    "_Feature"
   ],
   "window_display": false
  },
  "vp": {
   "vp_config_version": "1.0.0",
   "vp_menu_width": 273,
   "vp_note_display": false,
   "vp_note_width": 0,
   "vp_position": {
    "width": 278
   },
   "vp_section_display": false,
   "vp_signature": "VisualPython"
  }
 },
 "nbformat": 4,
 "nbformat_minor": 4
}
