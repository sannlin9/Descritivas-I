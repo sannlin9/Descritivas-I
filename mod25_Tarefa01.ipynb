{
 "cells": [
  {
   "cell_type": "markdown",
   "metadata": {},
   "source": [
    "# Cálculo - Tarefa 01\n",
    "\n",
    "1. Marque quais desses métodos/algoritmos muito populares em ciência de dados são baseados no uso de derivada:\n",
    "\n",
    "    1. Método Mínimos Quadrados\n",
    "    2. Gradiente descendente\n",
    "    3. Newton Raphson\n",
    "    4. CART (Árvore de decisão)"
   ]
  },
  {
   "cell_type": "markdown",
   "metadata": {},
   "source": [
    "> Das opções mencionadas, o método baseado em derivadas é o Gradiente Descendente. Esse algoritmo é utilizado em aprendizado de máquina e otimização para encontrar o mínimo global de uma função de custo que realiza o ajuste de parâmetros de forma iterativa com o objetivo de encontrar o valor θ₀ e θ₁ que minimiza a função de interesse, ou seja, o menor valor que essa função pode assumir em todo o seu domínio, sendo um parâmetro de um modelo de aprendizado de máquina que representa o melhor ajuste possível do modelo aos dados de treinamento.\n",
    "Indiretamente os demais métodos podem ter resultados que sofreram derivação, mas os métodos dos algoritmos não têm ligação direta.\n",
    "Em resumo, dentre as opções mencionadas, apenas o Gradiente Descendente é diretamente baseado em derivadas."
   ]
  },
  {
   "cell_type": "markdown",
   "metadata": {},
   "source": [
    "2. Dada uma base de dados com uma variável resposta $y$ e um conjunto de variáveis explicativas. Considere uma estrutura de um modelo de regressão. Explique com suas palavras por que não é possível obter parâmetros que forneçam um erro quadrático médio (EQM) menor que o obtido com estimadores de mínimos quadrados."
   ]
  },
  {
   "cell_type": "markdown",
   "metadata": {},
   "source": [
    "> Isso ocorre porque, em geral, os EMQ (estimadores de mínimos quadrados) são consistentes e, portanto, convergem para os valores ótimos dos parâmetros conforme o tamanho da amostra aumenta. Além disso, os EMQ são, em muitos casos, eficientes, o que significa que possuem a menor variância possível entre todos os estimadores não viciados. Essas propriedades tornam os EMQ difíceis de serem superados por outros estimadores.\n",
    "Portanto, se um modelo é ajustado usando os EMQ e o EQM (erro quadrático médio) resultante é pequeno, é improvável que seja possível encontrar parâmetros que resultem em um EQM menor do que o alcançado pelos EMQ. É possível que outros métodos de modelagem possam fornecer melhor ajuste do modelo, mas isso não necessariamente significa que irão obter um EQM menor do que os EMQ, principalmente se os EMQ já alcançaram um ajuste muito bom aos dados.\n"
   ]
  }
 ],
 "metadata": {
  "kernelspec": {
   "display_name": "Python 3 (ipykernel)",
   "language": "python",
   "name": "python3"
  },
  "language_info": {
   "codemirror_mode": {
    "name": "ipython",
    "version": 3
   },
   "file_extension": ".py",
   "mimetype": "text/x-python",
   "name": "python",
   "nbconvert_exporter": "python",
   "pygments_lexer": "ipython3",
   "version": "3.9.16"
  },
  "toc": {
   "base_numbering": 1,
   "nav_menu": {},
   "number_sections": true,
   "sideBar": true,
   "skip_h1_title": true,
   "title_cell": "Índice",
   "title_sidebar": "Conteúdo",
   "toc_cell": false,
   "toc_position": {},
   "toc_section_display": true,
   "toc_window_display": false
  },
  "varInspector": {
   "cols": {
    "lenName": 16,
    "lenType": 16,
    "lenVar": 40
   },
   "kernels_config": {
    "python": {
     "delete_cmd_postfix": "",
     "delete_cmd_prefix": "del ",
     "library": "var_list.py",
     "varRefreshCmd": "print(var_dic_list())"
    },
    "r": {
     "delete_cmd_postfix": ") ",
     "delete_cmd_prefix": "rm(",
     "library": "var_list.r",
     "varRefreshCmd": "cat(var_dic_list()) "
    }
   },
   "types_to_exclude": [
    "module",
    "function",
    "builtin_function_or_method",
    "instance",
    "_Feature"
   ],
   "window_display": false
  },
  "vp": {
   "vp_config_version": "1.0.0",
   "vp_menu_width": 273,
   "vp_note_display": false,
   "vp_note_width": 0,
   "vp_position": {
    "width": 278
   },
   "vp_section_display": false,
   "vp_signature": "VisualPython"
  }
 },
 "nbformat": 4,
 "nbformat_minor": 4
}
